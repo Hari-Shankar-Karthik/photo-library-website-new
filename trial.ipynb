{
 "cells": [
  {
   "cell_type": "code",
   "execution_count": 14,
   "metadata": {},
   "outputs": [],
   "source": [
    "import torch\n",
    "from PIL import Image\n",
    "import requests\n",
    "from transformers import CLIPProcessor, CLIPModel\n",
    "import requests\n",
    "import matplotlib.pyplot as plt"
   ]
  },
  {
   "cell_type": "code",
   "execution_count": 2,
   "metadata": {},
   "outputs": [],
   "source": [
    "# Define constants\n",
    "ACCESS_KEY = \"qGZH0hMvwG1BphZ5mWdMN8pEljHzZU-Mf2N35ZjHCuA\"  # Replace with your Unsplash access key\n",
    "URL = \"https://api.unsplash.com/photos/random\"\n",
    "\n",
    "\n",
    "def fetch_random_images(count=50):\n",
    "    \"\"\"\n",
    "    Fetches random image URLs from Unsplash.\n",
    "\n",
    "    Args:\n",
    "        count (int): The number of images to fetch.\n",
    "\n",
    "    Returns:\n",
    "        list: A list of random image URLs.\n",
    "    \"\"\"\n",
    "\n",
    "    images = []\n",
    "    params = {\n",
    "        \"count\": count,\n",
    "        \"client_id\": ACCESS_KEY,\n",
    "    }\n",
    "\n",
    "    try:\n",
    "        response = requests.get(URL, params=params)\n",
    "        response.raise_for_status()\n",
    "        data = response.json()\n",
    "        images = [img[\"urls\"][\"full\"] for img in data]\n",
    "    except requests.exceptions.RequestException as e:\n",
    "        print(f\"Error fetching images: {e}\")\n",
    "\n",
    "    return images"
   ]
  },
  {
   "cell_type": "code",
   "execution_count": 3,
   "metadata": {},
   "outputs": [],
   "source": [
    "model_id = \"openai/clip-vit-base-patch32\"\n",
    "\n",
    "model = CLIPModel.from_pretrained(model_id)\n",
    "processor = CLIPProcessor.from_pretrained(model_id)"
   ]
  },
  {
   "cell_type": "code",
   "execution_count": 4,
   "metadata": {},
   "outputs": [],
   "source": [
    "sample_image_urls = fetch_random_images(20)"
   ]
  },
  {
   "cell_type": "code",
   "execution_count": 5,
   "metadata": {},
   "outputs": [],
   "source": [
    "sample_images = [\n",
    "    Image.open(requests.get(url, stream=True).raw) for url in sample_image_urls\n",
    "]"
   ]
  },
  {
   "cell_type": "code",
   "execution_count": 26,
   "metadata": {},
   "outputs": [],
   "source": [
    "inputs = processor(\n",
    "    text=\"abstract\",\n",
    "    images=sample_images,\n",
    "    return_tensors=\"pt\",\n",
    "    padding=True,\n",
    ")"
   ]
  },
  {
   "cell_type": "code",
   "execution_count": 40,
   "metadata": {},
   "outputs": [
    {
     "name": "stdout",
     "output_type": "stream",
     "text": [
      "(tensor([ 3, 14, 15]),) tensor([0.1247, 0.5644, 0.1556], grad_fn=<IndexBackward0>)\n"
     ]
    }
   ],
   "source": [
    "outputs = model(**inputs)\n",
    "\n",
    "# this is the image-text similarity score\n",
    "logits_per_image = outputs.logits_per_image.reshape(-1)\n",
    "probs = logits_per_image.softmax(axis=0)\n",
    "threshold = 0.1\n",
    "print(torch.where(probs >= threshold), probs[probs >= threshold])"
   ]
  },
  {
   "cell_type": "code",
   "execution_count": null,
   "metadata": {},
   "outputs": [
    {
     "ename": "NameError",
     "evalue": "name 'plt' is not defined",
     "output_type": "error",
     "traceback": [
      "\u001b[1;31m---------------------------------------------------------------------------\u001b[0m",
      "\u001b[1;31mNameError\u001b[0m                                 Traceback (most recent call last)",
      "Cell \u001b[1;32mIn[1], line 1\u001b[0m\n\u001b[1;32m----> 1\u001b[0m \u001b[43mplt\u001b[49m\u001b[38;5;241m.\u001b[39mimshow(sample_images[\u001b[38;5;241m14\u001b[39m])\n\u001b[0;32m      2\u001b[0m plt\u001b[38;5;241m.\u001b[39maxis(\u001b[38;5;28;01mFalse\u001b[39;00m)\n",
      "\u001b[1;31mNameError\u001b[0m: name 'plt' is not defined"
     ]
    }
   ],
   "source": [
    "plt.imshow(sample_images[14])\n",
    "plt.axis(False)"
   ]
  }
 ],
 "metadata": {
  "kernelspec": {
   "display_name": "Python 3",
   "language": "python",
   "name": "python3"
  },
  "language_info": {
   "codemirror_mode": {
    "name": "ipython",
    "version": 3
   },
   "file_extension": ".py",
   "mimetype": "text/x-python",
   "name": "python",
   "nbconvert_exporter": "python",
   "pygments_lexer": "ipython3",
   "version": "3.12.3"
  }
 },
 "nbformat": 4,
 "nbformat_minor": 2
}
